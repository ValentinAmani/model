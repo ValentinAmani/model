{
 "cells": [
  {
   "cell_type": "markdown",
   "metadata": {},
   "source": [
    "### Project 1 : COEUR"
   ]
  },
  {
   "cell_type": "code",
   "execution_count": 32,
   "metadata": {},
   "outputs": [],
   "source": [
    "import numpy as np\n",
    "import pandas as pd\n",
    "\n",
    "# import os\n",
    "\n",
    "from sklearn.model_selection import train_test_split\n",
    "from sklearn.linear_model import LogisticRegression\n",
    "from sklearn.tree import DecisionTreeClassifier\n",
    "from sklearn.metrics import confusion_matrix, precision_score, recall_score, accuracy_score, classification_report\n",
    "\n",
    "import pickle"
   ]
  },
  {
   "cell_type": "markdown",
   "metadata": {},
   "source": [
    "#### Charge le dataset coeur."
   ]
  },
  {
   "cell_type": "code",
   "execution_count": 2,
   "metadata": {},
   "outputs": [],
   "source": [
    "# Affiche le répertoire courant.\n",
    "# os.getcwd()\n",
    "\n",
    "# Change de répertoire de travail.\n",
    "# os.chdir(r\"c:/Users/...\")"
   ]
  },
  {
   "cell_type": "code",
   "execution_count": 3,
   "metadata": {},
   "outputs": [],
   "source": [
    "# Charge le dataset.\n",
    "data = pd.read_excel(\"dataset/coeur.xlsx\")"
   ]
  },
  {
   "cell_type": "code",
   "execution_count": 4,
   "metadata": {},
   "outputs": [],
   "source": [
    "# Copie data dans df.\n",
    "df = data.copy()"
   ]
  },
  {
   "cell_type": "code",
   "execution_count": 5,
   "metadata": {},
   "outputs": [
    {
     "name": "stdout",
     "output_type": "stream",
     "text": [
      "<class 'pandas.core.frame.DataFrame'>\n",
      "RangeIndex: 918 entries, 0 to 917\n",
      "Data columns (total 12 columns):\n",
      " #   Column       Non-Null Count  Dtype  \n",
      "---  ------       --------------  -----  \n",
      " 0   AGE          918 non-null    int64  \n",
      " 1   SEXE         918 non-null    object \n",
      " 2   TDT          918 non-null    object \n",
      " 3   PAR          918 non-null    int64  \n",
      " 4   CHOLESTEROL  918 non-null    int64  \n",
      " 5   GAJ          918 non-null    int64  \n",
      " 6   ECG          918 non-null    object \n",
      " 7   FCMAX        918 non-null    int64  \n",
      " 8   ANGINE       918 non-null    object \n",
      " 9   DEPRESSION   918 non-null    float64\n",
      " 10  PENTE        918 non-null    object \n",
      " 11  CŒUR         918 non-null    int64  \n",
      "dtypes: float64(1), int64(6), object(5)\n",
      "memory usage: 86.2+ KB\n"
     ]
    }
   ],
   "source": [
    "# Affiche les informations relatives à df.\n",
    "df.info()"
   ]
  },
  {
   "cell_type": "code",
   "execution_count": 6,
   "metadata": {},
   "outputs": [
    {
     "data": {
      "text/html": [
       "<div>\n",
       "<style scoped>\n",
       "    .dataframe tbody tr th:only-of-type {\n",
       "        vertical-align: middle;\n",
       "    }\n",
       "\n",
       "    .dataframe tbody tr th {\n",
       "        vertical-align: top;\n",
       "    }\n",
       "\n",
       "    .dataframe thead th {\n",
       "        text-align: right;\n",
       "    }\n",
       "</style>\n",
       "<table border=\"1\" class=\"dataframe\">\n",
       "  <thead>\n",
       "    <tr style=\"text-align: right;\">\n",
       "      <th></th>\n",
       "      <th>AGE</th>\n",
       "      <th>SEXE</th>\n",
       "      <th>TDT</th>\n",
       "      <th>PAR</th>\n",
       "      <th>CHOLESTEROL</th>\n",
       "      <th>GAJ</th>\n",
       "      <th>ECG</th>\n",
       "      <th>FCMAX</th>\n",
       "      <th>ANGINE</th>\n",
       "      <th>DEPRESSION</th>\n",
       "      <th>PENTE</th>\n",
       "      <th>CŒUR</th>\n",
       "    </tr>\n",
       "  </thead>\n",
       "  <tbody>\n",
       "    <tr>\n",
       "      <th>0</th>\n",
       "      <td>40</td>\n",
       "      <td>homme</td>\n",
       "      <td>AA</td>\n",
       "      <td>140</td>\n",
       "      <td>289</td>\n",
       "      <td>0</td>\n",
       "      <td>Normal</td>\n",
       "      <td>172</td>\n",
       "      <td>Non</td>\n",
       "      <td>0.0</td>\n",
       "      <td>Ascendant</td>\n",
       "      <td>0</td>\n",
       "    </tr>\n",
       "    <tr>\n",
       "      <th>1</th>\n",
       "      <td>49</td>\n",
       "      <td>femme</td>\n",
       "      <td>DNA</td>\n",
       "      <td>160</td>\n",
       "      <td>180</td>\n",
       "      <td>0</td>\n",
       "      <td>Normal</td>\n",
       "      <td>156</td>\n",
       "      <td>Non</td>\n",
       "      <td>1.0</td>\n",
       "      <td>Plat</td>\n",
       "      <td>1</td>\n",
       "    </tr>\n",
       "    <tr>\n",
       "      <th>2</th>\n",
       "      <td>37</td>\n",
       "      <td>homme</td>\n",
       "      <td>AA</td>\n",
       "      <td>130</td>\n",
       "      <td>283</td>\n",
       "      <td>0</td>\n",
       "      <td>ST</td>\n",
       "      <td>98</td>\n",
       "      <td>Non</td>\n",
       "      <td>0.0</td>\n",
       "      <td>Ascendant</td>\n",
       "      <td>0</td>\n",
       "    </tr>\n",
       "    <tr>\n",
       "      <th>3</th>\n",
       "      <td>48</td>\n",
       "      <td>femme</td>\n",
       "      <td>ASY</td>\n",
       "      <td>138</td>\n",
       "      <td>214</td>\n",
       "      <td>0</td>\n",
       "      <td>Normal</td>\n",
       "      <td>108</td>\n",
       "      <td>Oui</td>\n",
       "      <td>1.5</td>\n",
       "      <td>Plat</td>\n",
       "      <td>1</td>\n",
       "    </tr>\n",
       "    <tr>\n",
       "      <th>4</th>\n",
       "      <td>54</td>\n",
       "      <td>homme</td>\n",
       "      <td>DNA</td>\n",
       "      <td>150</td>\n",
       "      <td>195</td>\n",
       "      <td>0</td>\n",
       "      <td>Normal</td>\n",
       "      <td>122</td>\n",
       "      <td>Non</td>\n",
       "      <td>0.0</td>\n",
       "      <td>Ascendant</td>\n",
       "      <td>0</td>\n",
       "    </tr>\n",
       "  </tbody>\n",
       "</table>\n",
       "</div>"
      ],
      "text/plain": [
       "   AGE   SEXE  TDT  PAR  CHOLESTEROL  GAJ     ECG  FCMAX ANGINE  DEPRESSION   \\\n",
       "0   40  homme   AA  140          289    0  Normal    172    Non          0.0   \n",
       "1   49  femme  DNA  160          180    0  Normal    156    Non          1.0   \n",
       "2   37  homme   AA  130          283    0      ST     98    Non          0.0   \n",
       "3   48  femme  ASY  138          214    0  Normal    108    Oui          1.5   \n",
       "4   54  homme  DNA  150          195    0  Normal    122    Non          0.0   \n",
       "\n",
       "       PENTE  CŒUR  \n",
       "0  Ascendant     0  \n",
       "1       Plat     1  \n",
       "2  Ascendant     0  \n",
       "3       Plat     1  \n",
       "4  Ascendant     0  "
      ]
     },
     "execution_count": 6,
     "metadata": {},
     "output_type": "execute_result"
    }
   ],
   "source": [
    "# Affiche les prémières lignes de df.\n",
    "df.head()"
   ]
  },
  {
   "cell_type": "markdown",
   "metadata": {},
   "source": [
    "#### Vérifie les doublons des lignes et les supprime."
   ]
  },
  {
   "cell_type": "code",
   "execution_count": 7,
   "metadata": {},
   "outputs": [
    {
     "data": {
      "text/plain": [
       "0"
      ]
     },
     "execution_count": 7,
     "metadata": {},
     "output_type": "execute_result"
    }
   ],
   "source": [
    "# Compte le nombre de lignes dupliquées (ici il n'y en a pas).\n",
    "df.duplicated().sum()\n",
    "\n",
    "# Supprime les doublons.\n",
    "# df.drop_duplicates()"
   ]
  },
  {
   "cell_type": "markdown",
   "metadata": {},
   "source": [
    "#### Vérifie les données manquantes et les supprime."
   ]
  },
  {
   "cell_type": "code",
   "execution_count": 8,
   "metadata": {},
   "outputs": [
    {
     "data": {
      "text/plain": [
       "AGE            0\n",
       "SEXE           0\n",
       "TDT            0\n",
       "PAR            0\n",
       "CHOLESTEROL    0\n",
       "GAJ            0\n",
       "ECG            0\n",
       "FCMAX          0\n",
       "ANGINE         0\n",
       "DEPRESSION     0\n",
       "PENTE          0\n",
       "CŒUR           0\n",
       "dtype: int64"
      ]
     },
     "execution_count": 8,
     "metadata": {},
     "output_type": "execute_result"
    }
   ],
   "source": [
    "# Compte le nombre de données manquantes par colonne (ici il n'y en a pas).\n",
    "df.isna().sum()\n",
    "\n",
    "# Supprime les données manquantes.\n",
    "# df = df.drop_na(axis=0)"
   ]
  },
  {
   "cell_type": "markdown",
   "metadata": {},
   "source": [
    "#### Vérifie les constantes et les supprime."
   ]
  },
  {
   "cell_type": "code",
   "execution_count": 9,
   "metadata": {},
   "outputs": [
    {
     "data": {
      "text/plain": [
       "AGE             50\n",
       "SEXE             2\n",
       "TDT              4\n",
       "PAR             67\n",
       "CHOLESTEROL    222\n",
       "GAJ              2\n",
       "ECG              3\n",
       "FCMAX          119\n",
       "ANGINE           2\n",
       "DEPRESSION      53\n",
       "PENTE            3\n",
       "CŒUR             2\n",
       "dtype: int64"
      ]
     },
     "execution_count": 9,
     "metadata": {},
     "output_type": "execute_result"
    }
   ],
   "source": [
    "# Ici il n'y a pas de constantes, car chaque variable prend au moins deux valeurs différentes.\n",
    "df.nunique()\n",
    "\n",
    "# Supprime une constante.\n",
    "# df = df.drop(\"nom_column\", axis=1)"
   ]
  },
  {
   "cell_type": "markdown",
   "metadata": {},
   "source": [
    "#### Normalise les variables quantitatives."
   ]
  },
  {
   "cell_type": "code",
   "execution_count": 10,
   "metadata": {},
   "outputs": [],
   "source": [
    "# Selectionne les colonnes de type number.\n",
    "for column in df.drop(\"CŒUR\", axis=1).select_dtypes(np.number).columns:\n",
    "    df[column] = df[column] / df[column].max()"
   ]
  },
  {
   "cell_type": "code",
   "execution_count": 11,
   "metadata": {},
   "outputs": [
    {
     "data": {
      "text/html": [
       "<div>\n",
       "<style scoped>\n",
       "    .dataframe tbody tr th:only-of-type {\n",
       "        vertical-align: middle;\n",
       "    }\n",
       "\n",
       "    .dataframe tbody tr th {\n",
       "        vertical-align: top;\n",
       "    }\n",
       "\n",
       "    .dataframe thead th {\n",
       "        text-align: right;\n",
       "    }\n",
       "</style>\n",
       "<table border=\"1\" class=\"dataframe\">\n",
       "  <thead>\n",
       "    <tr style=\"text-align: right;\">\n",
       "      <th></th>\n",
       "      <th>AGE</th>\n",
       "      <th>SEXE</th>\n",
       "      <th>TDT</th>\n",
       "      <th>PAR</th>\n",
       "      <th>CHOLESTEROL</th>\n",
       "      <th>GAJ</th>\n",
       "      <th>ECG</th>\n",
       "      <th>FCMAX</th>\n",
       "      <th>ANGINE</th>\n",
       "      <th>DEPRESSION</th>\n",
       "      <th>PENTE</th>\n",
       "      <th>CŒUR</th>\n",
       "    </tr>\n",
       "  </thead>\n",
       "  <tbody>\n",
       "    <tr>\n",
       "      <th>0</th>\n",
       "      <td>0.519481</td>\n",
       "      <td>homme</td>\n",
       "      <td>AA</td>\n",
       "      <td>0.70</td>\n",
       "      <td>0.479270</td>\n",
       "      <td>0.0</td>\n",
       "      <td>Normal</td>\n",
       "      <td>0.851485</td>\n",
       "      <td>Non</td>\n",
       "      <td>0.000000</td>\n",
       "      <td>Ascendant</td>\n",
       "      <td>0</td>\n",
       "    </tr>\n",
       "    <tr>\n",
       "      <th>1</th>\n",
       "      <td>0.636364</td>\n",
       "      <td>femme</td>\n",
       "      <td>DNA</td>\n",
       "      <td>0.80</td>\n",
       "      <td>0.298507</td>\n",
       "      <td>0.0</td>\n",
       "      <td>Normal</td>\n",
       "      <td>0.772277</td>\n",
       "      <td>Non</td>\n",
       "      <td>0.161290</td>\n",
       "      <td>Plat</td>\n",
       "      <td>1</td>\n",
       "    </tr>\n",
       "    <tr>\n",
       "      <th>2</th>\n",
       "      <td>0.480519</td>\n",
       "      <td>homme</td>\n",
       "      <td>AA</td>\n",
       "      <td>0.65</td>\n",
       "      <td>0.469320</td>\n",
       "      <td>0.0</td>\n",
       "      <td>ST</td>\n",
       "      <td>0.485149</td>\n",
       "      <td>Non</td>\n",
       "      <td>0.000000</td>\n",
       "      <td>Ascendant</td>\n",
       "      <td>0</td>\n",
       "    </tr>\n",
       "    <tr>\n",
       "      <th>3</th>\n",
       "      <td>0.623377</td>\n",
       "      <td>femme</td>\n",
       "      <td>ASY</td>\n",
       "      <td>0.69</td>\n",
       "      <td>0.354892</td>\n",
       "      <td>0.0</td>\n",
       "      <td>Normal</td>\n",
       "      <td>0.534653</td>\n",
       "      <td>Oui</td>\n",
       "      <td>0.241935</td>\n",
       "      <td>Plat</td>\n",
       "      <td>1</td>\n",
       "    </tr>\n",
       "    <tr>\n",
       "      <th>4</th>\n",
       "      <td>0.701299</td>\n",
       "      <td>homme</td>\n",
       "      <td>DNA</td>\n",
       "      <td>0.75</td>\n",
       "      <td>0.323383</td>\n",
       "      <td>0.0</td>\n",
       "      <td>Normal</td>\n",
       "      <td>0.603960</td>\n",
       "      <td>Non</td>\n",
       "      <td>0.000000</td>\n",
       "      <td>Ascendant</td>\n",
       "      <td>0</td>\n",
       "    </tr>\n",
       "  </tbody>\n",
       "</table>\n",
       "</div>"
      ],
      "text/plain": [
       "        AGE   SEXE  TDT   PAR  CHOLESTEROL  GAJ     ECG     FCMAX ANGINE  \\\n",
       "0  0.519481  homme   AA  0.70     0.479270  0.0  Normal  0.851485    Non   \n",
       "1  0.636364  femme  DNA  0.80     0.298507  0.0  Normal  0.772277    Non   \n",
       "2  0.480519  homme   AA  0.65     0.469320  0.0      ST  0.485149    Non   \n",
       "3  0.623377  femme  ASY  0.69     0.354892  0.0  Normal  0.534653    Oui   \n",
       "4  0.701299  homme  DNA  0.75     0.323383  0.0  Normal  0.603960    Non   \n",
       "\n",
       "   DEPRESSION       PENTE  CŒUR  \n",
       "0     0.000000  Ascendant     0  \n",
       "1     0.161290       Plat     1  \n",
       "2     0.000000  Ascendant     0  \n",
       "3     0.241935       Plat     1  \n",
       "4     0.000000  Ascendant     0  "
      ]
     },
     "execution_count": 11,
     "metadata": {},
     "output_type": "execute_result"
    }
   ],
   "source": [
    "# Vérifie le résultat.\n",
    "df.head()"
   ]
  },
  {
   "cell_type": "markdown",
   "metadata": {},
   "source": [
    "#### Recode les variables qualitatives."
   ]
  },
  {
   "cell_type": "code",
   "execution_count": 12,
   "metadata": {},
   "outputs": [],
   "source": [
    "# Encode les variables qualitatives.\n",
    "for column in df.drop(\"CŒUR\", axis=1).select_dtypes(\"object\").columns:\n",
    "        df[column] = df[column].astype(\"category\").cat.codes"
   ]
  },
  {
   "cell_type": "code",
   "execution_count": 13,
   "metadata": {},
   "outputs": [
    {
     "data": {
      "text/html": [
       "<div>\n",
       "<style scoped>\n",
       "    .dataframe tbody tr th:only-of-type {\n",
       "        vertical-align: middle;\n",
       "    }\n",
       "\n",
       "    .dataframe tbody tr th {\n",
       "        vertical-align: top;\n",
       "    }\n",
       "\n",
       "    .dataframe thead th {\n",
       "        text-align: right;\n",
       "    }\n",
       "</style>\n",
       "<table border=\"1\" class=\"dataframe\">\n",
       "  <thead>\n",
       "    <tr style=\"text-align: right;\">\n",
       "      <th></th>\n",
       "      <th>AGE</th>\n",
       "      <th>SEXE</th>\n",
       "      <th>TDT</th>\n",
       "      <th>PAR</th>\n",
       "      <th>CHOLESTEROL</th>\n",
       "      <th>GAJ</th>\n",
       "      <th>ECG</th>\n",
       "      <th>FCMAX</th>\n",
       "      <th>ANGINE</th>\n",
       "      <th>DEPRESSION</th>\n",
       "      <th>PENTE</th>\n",
       "      <th>CŒUR</th>\n",
       "    </tr>\n",
       "  </thead>\n",
       "  <tbody>\n",
       "    <tr>\n",
       "      <th>0</th>\n",
       "      <td>0.519481</td>\n",
       "      <td>1</td>\n",
       "      <td>0</td>\n",
       "      <td>0.70</td>\n",
       "      <td>0.479270</td>\n",
       "      <td>0.0</td>\n",
       "      <td>1</td>\n",
       "      <td>0.851485</td>\n",
       "      <td>0</td>\n",
       "      <td>0.000000</td>\n",
       "      <td>0</td>\n",
       "      <td>0</td>\n",
       "    </tr>\n",
       "    <tr>\n",
       "      <th>1</th>\n",
       "      <td>0.636364</td>\n",
       "      <td>0</td>\n",
       "      <td>3</td>\n",
       "      <td>0.80</td>\n",
       "      <td>0.298507</td>\n",
       "      <td>0.0</td>\n",
       "      <td>1</td>\n",
       "      <td>0.772277</td>\n",
       "      <td>0</td>\n",
       "      <td>0.161290</td>\n",
       "      <td>2</td>\n",
       "      <td>1</td>\n",
       "    </tr>\n",
       "    <tr>\n",
       "      <th>2</th>\n",
       "      <td>0.480519</td>\n",
       "      <td>1</td>\n",
       "      <td>0</td>\n",
       "      <td>0.65</td>\n",
       "      <td>0.469320</td>\n",
       "      <td>0.0</td>\n",
       "      <td>2</td>\n",
       "      <td>0.485149</td>\n",
       "      <td>0</td>\n",
       "      <td>0.000000</td>\n",
       "      <td>0</td>\n",
       "      <td>0</td>\n",
       "    </tr>\n",
       "    <tr>\n",
       "      <th>3</th>\n",
       "      <td>0.623377</td>\n",
       "      <td>0</td>\n",
       "      <td>1</td>\n",
       "      <td>0.69</td>\n",
       "      <td>0.354892</td>\n",
       "      <td>0.0</td>\n",
       "      <td>1</td>\n",
       "      <td>0.534653</td>\n",
       "      <td>1</td>\n",
       "      <td>0.241935</td>\n",
       "      <td>2</td>\n",
       "      <td>1</td>\n",
       "    </tr>\n",
       "    <tr>\n",
       "      <th>4</th>\n",
       "      <td>0.701299</td>\n",
       "      <td>1</td>\n",
       "      <td>3</td>\n",
       "      <td>0.75</td>\n",
       "      <td>0.323383</td>\n",
       "      <td>0.0</td>\n",
       "      <td>1</td>\n",
       "      <td>0.603960</td>\n",
       "      <td>0</td>\n",
       "      <td>0.000000</td>\n",
       "      <td>0</td>\n",
       "      <td>0</td>\n",
       "    </tr>\n",
       "  </tbody>\n",
       "</table>\n",
       "</div>"
      ],
      "text/plain": [
       "        AGE  SEXE  TDT   PAR  CHOLESTEROL  GAJ  ECG     FCMAX  ANGINE  \\\n",
       "0  0.519481     1    0  0.70     0.479270  0.0    1  0.851485       0   \n",
       "1  0.636364     0    3  0.80     0.298507  0.0    1  0.772277       0   \n",
       "2  0.480519     1    0  0.65     0.469320  0.0    2  0.485149       0   \n",
       "3  0.623377     0    1  0.69     0.354892  0.0    1  0.534653       1   \n",
       "4  0.701299     1    3  0.75     0.323383  0.0    1  0.603960       0   \n",
       "\n",
       "   DEPRESSION   PENTE  CŒUR  \n",
       "0     0.000000      0     0  \n",
       "1     0.161290      2     1  \n",
       "2     0.000000      0     0  \n",
       "3     0.241935      2     1  \n",
       "4     0.000000      0     0  "
      ]
     },
     "execution_count": 13,
     "metadata": {},
     "output_type": "execute_result"
    }
   ],
   "source": [
    "# Vérifie le résultat.\n",
    "df.head()"
   ]
  },
  {
   "cell_type": "markdown",
   "metadata": {},
   "source": [
    "#### Crée deux objets : x contenant les variables AGE jusqu'à PENTE et y contenant uniquement CŒUR."
   ]
  },
  {
   "cell_type": "code",
   "execution_count": 14,
   "metadata": {},
   "outputs": [],
   "source": [
    "# Sépare df: x les variables explicatives et y la variable cible (coeur).\n",
    "x = df.drop(\"CŒUR\", axis=1)\n",
    "y = df.CŒUR"
   ]
  },
  {
   "cell_type": "code",
   "execution_count": 15,
   "metadata": {},
   "outputs": [
    {
     "data": {
      "text/html": [
       "<div>\n",
       "<style scoped>\n",
       "    .dataframe tbody tr th:only-of-type {\n",
       "        vertical-align: middle;\n",
       "    }\n",
       "\n",
       "    .dataframe tbody tr th {\n",
       "        vertical-align: top;\n",
       "    }\n",
       "\n",
       "    .dataframe thead th {\n",
       "        text-align: right;\n",
       "    }\n",
       "</style>\n",
       "<table border=\"1\" class=\"dataframe\">\n",
       "  <thead>\n",
       "    <tr style=\"text-align: right;\">\n",
       "      <th></th>\n",
       "      <th>AGE</th>\n",
       "      <th>SEXE</th>\n",
       "      <th>TDT</th>\n",
       "      <th>PAR</th>\n",
       "      <th>CHOLESTEROL</th>\n",
       "      <th>GAJ</th>\n",
       "      <th>ECG</th>\n",
       "      <th>FCMAX</th>\n",
       "      <th>ANGINE</th>\n",
       "      <th>DEPRESSION</th>\n",
       "      <th>PENTE</th>\n",
       "    </tr>\n",
       "  </thead>\n",
       "  <tbody>\n",
       "    <tr>\n",
       "      <th>0</th>\n",
       "      <td>0.519481</td>\n",
       "      <td>1</td>\n",
       "      <td>0</td>\n",
       "      <td>0.70</td>\n",
       "      <td>0.479270</td>\n",
       "      <td>0.0</td>\n",
       "      <td>1</td>\n",
       "      <td>0.851485</td>\n",
       "      <td>0</td>\n",
       "      <td>0.000000</td>\n",
       "      <td>0</td>\n",
       "    </tr>\n",
       "    <tr>\n",
       "      <th>1</th>\n",
       "      <td>0.636364</td>\n",
       "      <td>0</td>\n",
       "      <td>3</td>\n",
       "      <td>0.80</td>\n",
       "      <td>0.298507</td>\n",
       "      <td>0.0</td>\n",
       "      <td>1</td>\n",
       "      <td>0.772277</td>\n",
       "      <td>0</td>\n",
       "      <td>0.161290</td>\n",
       "      <td>2</td>\n",
       "    </tr>\n",
       "    <tr>\n",
       "      <th>2</th>\n",
       "      <td>0.480519</td>\n",
       "      <td>1</td>\n",
       "      <td>0</td>\n",
       "      <td>0.65</td>\n",
       "      <td>0.469320</td>\n",
       "      <td>0.0</td>\n",
       "      <td>2</td>\n",
       "      <td>0.485149</td>\n",
       "      <td>0</td>\n",
       "      <td>0.000000</td>\n",
       "      <td>0</td>\n",
       "    </tr>\n",
       "    <tr>\n",
       "      <th>3</th>\n",
       "      <td>0.623377</td>\n",
       "      <td>0</td>\n",
       "      <td>1</td>\n",
       "      <td>0.69</td>\n",
       "      <td>0.354892</td>\n",
       "      <td>0.0</td>\n",
       "      <td>1</td>\n",
       "      <td>0.534653</td>\n",
       "      <td>1</td>\n",
       "      <td>0.241935</td>\n",
       "      <td>2</td>\n",
       "    </tr>\n",
       "    <tr>\n",
       "      <th>4</th>\n",
       "      <td>0.701299</td>\n",
       "      <td>1</td>\n",
       "      <td>3</td>\n",
       "      <td>0.75</td>\n",
       "      <td>0.323383</td>\n",
       "      <td>0.0</td>\n",
       "      <td>1</td>\n",
       "      <td>0.603960</td>\n",
       "      <td>0</td>\n",
       "      <td>0.000000</td>\n",
       "      <td>0</td>\n",
       "    </tr>\n",
       "  </tbody>\n",
       "</table>\n",
       "</div>"
      ],
      "text/plain": [
       "        AGE  SEXE  TDT   PAR  CHOLESTEROL  GAJ  ECG     FCMAX  ANGINE  \\\n",
       "0  0.519481     1    0  0.70     0.479270  0.0    1  0.851485       0   \n",
       "1  0.636364     0    3  0.80     0.298507  0.0    1  0.772277       0   \n",
       "2  0.480519     1    0  0.65     0.469320  0.0    2  0.485149       0   \n",
       "3  0.623377     0    1  0.69     0.354892  0.0    1  0.534653       1   \n",
       "4  0.701299     1    3  0.75     0.323383  0.0    1  0.603960       0   \n",
       "\n",
       "   DEPRESSION   PENTE  \n",
       "0     0.000000      0  \n",
       "1     0.161290      2  \n",
       "2     0.000000      0  \n",
       "3     0.241935      2  \n",
       "4     0.000000      0  "
      ]
     },
     "execution_count": 15,
     "metadata": {},
     "output_type": "execute_result"
    }
   ],
   "source": [
    "# Vérifie le résultat.\n",
    "x.head()"
   ]
  },
  {
   "cell_type": "code",
   "execution_count": 16,
   "metadata": {},
   "outputs": [
    {
     "data": {
      "text/plain": [
       "0    0\n",
       "1    1\n",
       "2    0\n",
       "3    1\n",
       "4    0\n",
       "Name: CŒUR, dtype: int64"
      ]
     },
     "execution_count": 16,
     "metadata": {},
     "output_type": "execute_result"
    }
   ],
   "source": [
    "# Vérifie le résultat.\n",
    "y.head()"
   ]
  },
  {
   "cell_type": "markdown",
   "metadata": {},
   "source": [
    "#### Répartis les données du dataset."
   ]
  },
  {
   "cell_type": "code",
   "execution_count": 17,
   "metadata": {},
   "outputs": [],
   "source": [
    "# Répartis le jeu de données, 70% pour l'entraînement et 30% pour les tests.\n",
    "x_train, x_test, y_train, y_test = train_test_split(x, y, test_size=0.3, random_state=0)\n",
    "\n",
    "# train_set, test_set = train_test_split(df, test_size=0.3, random_state=0)"
   ]
  },
  {
   "cell_type": "code",
   "execution_count": 18,
   "metadata": {},
   "outputs": [
    {
     "name": "stdout",
     "output_type": "stream",
     "text": [
      "(642, 11) (276, 11) (642,) (276,)\n"
     ]
    }
   ],
   "source": [
    "# Vérifie le résultat.\n",
    "print(x_train.shape, x_test.shape, y_train.shape, y_test.shape)"
   ]
  },
  {
   "cell_type": "markdown",
   "metadata": {},
   "source": [
    "#### Entraîne le modèle de régression logistique."
   ]
  },
  {
   "cell_type": "code",
   "execution_count": 19,
   "metadata": {},
   "outputs": [],
   "source": [
    "# Instancie la classe de régression logistique.\n",
    "logistic_regression = LogisticRegression(random_state=0)"
   ]
  },
  {
   "cell_type": "code",
   "execution_count": 20,
   "metadata": {},
   "outputs": [],
   "source": [
    "# Entraîne (apprentissage) notre modèle de régression logistique.\n",
    "model = logistic_regression.fit(x_train, y_train)\n",
    "\n",
    "# model = logistic_regression.fit(train_set.drop(\"CŒUR\", axis=1), train_set[\"CŒUR\"])"
   ]
  },
  {
   "cell_type": "code",
   "execution_count": 21,
   "metadata": {},
   "outputs": [
    {
     "data": {
      "text/plain": [
       "array([[0.08258089, 0.91741911],\n",
       "       [0.28850182, 0.71149818],\n",
       "       [0.06013223, 0.93986777],\n",
       "       [0.06178491, 0.93821509],\n",
       "       [0.84059458, 0.15940542]])"
      ]
     },
     "execution_count": 21,
     "metadata": {},
     "output_type": "execute_result"
    }
   ],
   "source": [
    "# La probabilité d'appartenance à l'une des classes (0 - 1 , non - oui , pas malade - malade).\n",
    "prediction_proba = model.predict_proba(x_test)\n",
    "prediction_proba[:5, :]\n",
    "\n",
    "# [non, oui]"
   ]
  },
  {
   "cell_type": "code",
   "execution_count": 22,
   "metadata": {},
   "outputs": [
    {
     "data": {
      "text/plain": [
       "array([1, 1, 1, 1, 0], dtype=int64)"
      ]
     },
     "execution_count": 22,
     "metadata": {},
     "output_type": "execute_result"
    }
   ],
   "source": [
    "# Applique le modèle au données de test.\n",
    "y_pred = model.predict(x_test)\n",
    "y_pred[:5]"
   ]
  },
  {
   "cell_type": "markdown",
   "metadata": {},
   "source": [
    "#### Conçois la matrice de confusion, la précision et la sensibilité."
   ]
  },
  {
   "cell_type": "markdown",
   "metadata": {},
   "source": [
    "#### La matrce de confusion"
   ]
  },
  {
   "cell_type": "code",
   "execution_count": 23,
   "metadata": {},
   "outputs": [
    {
     "data": {
      "text/plain": [
       "array([[ 91,  22],\n",
       "       [ 26, 137]], dtype=int64)"
      ]
     },
     "execution_count": 23,
     "metadata": {},
     "output_type": "execute_result"
    }
   ],
   "source": [
    "\"\"\"\n",
    "Selon la matrice de confusion, notre modèle prédit:\n",
    "- 91 fois correctement qu'un individu a une maladie du coeur (vp).\n",
    "- 22 fois de façon erronée qu'un individu a une maladie du coeur (fp).\n",
    "- 26 fois de façon erronée qu'un individu n'a pas une maladie du coeur (fn).\n",
    "- 137 fois correctement qu'un individu n'a pas une maladie du coeur (vn).\n",
    "\n",
    "array([ [vp, fp]\n",
    "        [fn, vn]])\n",
    "\"\"\"\n",
    "\n",
    "# La matrice de confusion.\n",
    "confusion_matrice = confusion_matrix(y_test, y_pred)\n",
    "confusion_matrice"
   ]
  },
  {
   "cell_type": "markdown",
   "metadata": {},
   "source": [
    "#### Le taux de bonnes prédictions"
   ]
  },
  {
   "cell_type": "code",
   "execution_count": 24,
   "metadata": {},
   "outputs": [
    {
     "data": {
      "text/plain": [
       "0.8260869565217391"
      ]
     },
     "execution_count": 24,
     "metadata": {},
     "output_type": "execute_result"
    }
   ],
   "source": [
    "# Le taux de bonnes prédictions.\n",
    "accuracy = accuracy_score(y_test, y_pred)\n",
    "accuracy\n",
    "\n",
    "# Interprétation: le modèle produit plus 82% de bonnes prédictions."
   ]
  },
  {
   "cell_type": "markdown",
   "metadata": {},
   "source": [
    "#### La sensibilité"
   ]
  },
  {
   "cell_type": "code",
   "execution_count": 25,
   "metadata": {},
   "outputs": [
    {
     "data": {
      "text/plain": [
       "0.8404907975460123"
      ]
     },
     "execution_count": 25,
     "metadata": {},
     "output_type": "execute_result"
    }
   ],
   "source": [
    "# La sensibilité.\n",
    "recall = recall_score(y_test, y_pred)\n",
    "recall\n",
    "\n",
    "# vp / (vp + fn)\n",
    "# recall = 91 / (91 + 26)\n",
    "\n",
    "# Interprétation: lorsqu'un individu est malade, le modèle a plus de 84% de chance de le prédire."
   ]
  },
  {
   "cell_type": "markdown",
   "metadata": {},
   "source": [
    "#### La précision"
   ]
  },
  {
   "cell_type": "code",
   "execution_count": 26,
   "metadata": {},
   "outputs": [
    {
     "data": {
      "text/plain": [
       "0.8616352201257862"
      ]
     },
     "execution_count": 26,
     "metadata": {},
     "output_type": "execute_result"
    }
   ],
   "source": [
    "# La précision.\n",
    "precision = precision_score(y_test, y_pred)\n",
    "precision\n",
    "\n",
    "# vp / (vp + fp)\n",
    "# precision = 91 / (91 + 22)\n",
    "\n",
    "# Interprétation: lorsque le modèle prédit qu'un individu est malade, il y a plus de 86% de chance que cela soit vraie."
   ]
  },
  {
   "cell_type": "code",
   "execution_count": 27,
   "metadata": {},
   "outputs": [
    {
     "name": "stdout",
     "output_type": "stream",
     "text": [
      "              precision    recall  f1-score   support\n",
      "\n",
      "           0       0.78      0.81      0.79       113\n",
      "           1       0.86      0.84      0.85       163\n",
      "\n",
      "    accuracy                           0.83       276\n",
      "   macro avg       0.82      0.82      0.82       276\n",
      "weighted avg       0.83      0.83      0.83       276\n",
      "\n"
     ]
    }
   ],
   "source": [
    "# Affiche plus de détails avec classification report.\n",
    "report_classification = classification_report(y_test, y_pred)\n",
    "print(report_classification)"
   ]
  },
  {
   "cell_type": "code",
   "execution_count": 28,
   "metadata": {},
   "outputs": [
    {
     "data": {
      "text/plain": [
       "1    0.553377\n",
       "0    0.446623\n",
       "Name: CŒUR, dtype: float64"
      ]
     },
     "execution_count": 28,
     "metadata": {},
     "output_type": "execute_result"
    }
   ],
   "source": [
    "# Modèle Trival.\n",
    "df.CŒUR.value_counts() / df.shape[0]\n",
    "\n",
    "# Interprétation: si nous nous basons sur le hasard pour faire nos prédictions, nous aurons plus de 55% de bonnes prédictions."
   ]
  },
  {
   "cell_type": "code",
   "execution_count": 29,
   "metadata": {},
   "outputs": [
    {
     "data": {
      "text/plain": [
       "0.8660436137071651"
      ]
     },
     "execution_count": 29,
     "metadata": {},
     "output_type": "execute_result"
    }
   ],
   "source": [
    "# Le score d'entraînement: taux de bonnes prédictions calculé sur la base des données d'entraînement.\n",
    "model.score(x_train, y_train)"
   ]
  },
  {
   "cell_type": "code",
   "execution_count": 30,
   "metadata": {},
   "outputs": [
    {
     "data": {
      "text/plain": [
       "0.8260869565217391"
      ]
     },
     "execution_count": 30,
     "metadata": {},
     "output_type": "execute_result"
    }
   ],
   "source": [
    "# Le score d'entraînement: le taux de bonnes prédictions calculé sur la base des données de test.\n",
    "model.score(x_test, y_test)"
   ]
  },
  {
   "cell_type": "markdown",
   "metadata": {},
   "source": [
    "#### Entraîne le modèle d'arbre de décision."
   ]
  },
  {
   "cell_type": "code",
   "execution_count": 33,
   "metadata": {},
   "outputs": [],
   "source": [
    "# Instancie la classe d'arbre de décision.\n",
    "decision_tree = DecisionTreeClassifier(random_state=0)"
   ]
  },
  {
   "cell_type": "code",
   "execution_count": 43,
   "metadata": {},
   "outputs": [],
   "source": [
    "# Entraîne notre modèle d'arbre de décision.\n",
    "model_decision_tree = decision_tree.fit(x_train, y_train)"
   ]
  },
  {
   "cell_type": "code",
   "execution_count": 44,
   "metadata": {},
   "outputs": [
    {
     "data": {
      "text/plain": [
       "array([[0., 1.],\n",
       "       [0., 1.],\n",
       "       [0., 1.],\n",
       "       [0., 1.],\n",
       "       [1., 0.]])"
      ]
     },
     "execution_count": 44,
     "metadata": {},
     "output_type": "execute_result"
    }
   ],
   "source": [
    "# La probabilité d'appartenance à l'une des classes (0 - 1 , non - oui , pas malade - malade).\n",
    "prediction_proba_decision_tree = model_decision_tree.predict_proba(x_test)\n",
    "prediction_proba_decision_tree[:5, :]\n",
    "\n",
    "# [non, oui]"
   ]
  },
  {
   "cell_type": "code",
   "execution_count": 45,
   "metadata": {},
   "outputs": [
    {
     "data": {
      "text/plain": [
       "array([1, 1, 1, 1, 0], dtype=int64)"
      ]
     },
     "execution_count": 45,
     "metadata": {},
     "output_type": "execute_result"
    }
   ],
   "source": [
    "# Applique le modèle au données de test.\n",
    "y_pred_decision_tree = model_decision_tree.predict(x_test)\n",
    "y_pred_decision_tree[:5]"
   ]
  },
  {
   "cell_type": "markdown",
   "metadata": {},
   "source": [
    "#### Conçois la matrice de confusion, la précision et la sensibilité."
   ]
  },
  {
   "cell_type": "markdown",
   "metadata": {},
   "source": [
    "#### La matrce de confusion"
   ]
  },
  {
   "cell_type": "code",
   "execution_count": 38,
   "metadata": {},
   "outputs": [
    {
     "data": {
      "text/plain": [
       "array([[ 90,  23],\n",
       "       [ 34, 129]], dtype=int64)"
      ]
     },
     "execution_count": 38,
     "metadata": {},
     "output_type": "execute_result"
    }
   ],
   "source": [
    "\"\"\"\n",
    "Selon la matrice de confusion, notre modèle prédit:\n",
    "- 90 fois correctement qu'un individu a une maladie du coeur (vp).\n",
    "- 23 fois de façon erronée qu'un individu a une maladie du coeur (fp).\n",
    "- 34 fois de façon erronée qu'un individu n'a pas une maladie du coeur (fn).\n",
    "- 129 fois correctement qu'un individu n'a pas une maladie du coeur (vn).\n",
    "\n",
    "array([ [vp, fp]\n",
    "        [fn, vn]])\n",
    "\"\"\"\n",
    "\n",
    "# La matrice de confusion.\n",
    "confusion_matrice_decision_tree = confusion_matrix(y_test, y_pred_decision_tree)\n",
    "confusion_matrice_decision_tree"
   ]
  },
  {
   "cell_type": "markdown",
   "metadata": {},
   "source": [
    "#### Le taux de bonnes prédictions"
   ]
  },
  {
   "cell_type": "code",
   "execution_count": 39,
   "metadata": {},
   "outputs": [
    {
     "data": {
      "text/plain": [
       "0.7934782608695652"
      ]
     },
     "execution_count": 39,
     "metadata": {},
     "output_type": "execute_result"
    }
   ],
   "source": [
    "# Le taux de bonnes prédictions.\n",
    "accuracy_decision_tree = accuracy_score(y_test, y_pred_decision_tree)\n",
    "accuracy_decision_tree\n",
    "\n",
    "# Interprétation: le modèle produit plus 79% de bonnes prédictions."
   ]
  },
  {
   "cell_type": "markdown",
   "metadata": {},
   "source": [
    "#### La sensibilité"
   ]
  },
  {
   "cell_type": "code",
   "execution_count": 40,
   "metadata": {},
   "outputs": [
    {
     "data": {
      "text/plain": [
       "0.7914110429447853"
      ]
     },
     "execution_count": 40,
     "metadata": {},
     "output_type": "execute_result"
    }
   ],
   "source": [
    "# La sensibilité.\n",
    "recall_decision_tree = recall_score(y_test, y_pred_decision_tree)\n",
    "recall_decision_tree\n",
    "\n",
    "# Interprétation: lorsqu'un individu est malade, le modèle a plus de 79% de chance de le prédire."
   ]
  },
  {
   "cell_type": "markdown",
   "metadata": {},
   "source": [
    "#### La précision"
   ]
  },
  {
   "cell_type": "code",
   "execution_count": 41,
   "metadata": {},
   "outputs": [
    {
     "data": {
      "text/plain": [
       "0.8486842105263158"
      ]
     },
     "execution_count": 41,
     "metadata": {},
     "output_type": "execute_result"
    }
   ],
   "source": [
    "# La précision.\n",
    "precision_decision_tree = precision_score(y_test, y_pred_decision_tree)\n",
    "precision_decision_tree\n",
    "\n",
    "# Interprétation: lorsque le modèle prédit qu'un individu est malade, il y a plus de 84% de chance que cela soit vraie."
   ]
  },
  {
   "cell_type": "code",
   "execution_count": 42,
   "metadata": {},
   "outputs": [
    {
     "name": "stdout",
     "output_type": "stream",
     "text": [
      "              precision    recall  f1-score   support\n",
      "\n",
      "           0       0.73      0.80      0.76       113\n",
      "           1       0.85      0.79      0.82       163\n",
      "\n",
      "    accuracy                           0.79       276\n",
      "   macro avg       0.79      0.79      0.79       276\n",
      "weighted avg       0.80      0.79      0.79       276\n",
      "\n"
     ]
    }
   ],
   "source": [
    "# Affiche plus de détails avec classification report.\n",
    "report_classification_decision_tree = classification_report(y_test, y_pred_decision_tree)\n",
    "print(report_classification_decision_tree)"
   ]
  },
  {
   "cell_type": "code",
   "execution_count": 46,
   "metadata": {},
   "outputs": [
    {
     "data": {
      "text/plain": [
       "1.0"
      ]
     },
     "execution_count": 46,
     "metadata": {},
     "output_type": "execute_result"
    }
   ],
   "source": [
    "# Le score d'entraînement: taux de bonnes prédictions calculé sur la base des données d'entraînement.\n",
    "model_decision_tree.score(x_train, y_train)"
   ]
  },
  {
   "cell_type": "code",
   "execution_count": 47,
   "metadata": {},
   "outputs": [
    {
     "data": {
      "text/plain": [
       "0.7934782608695652"
      ]
     },
     "execution_count": 47,
     "metadata": {},
     "output_type": "execute_result"
    }
   ],
   "source": [
    "# Le score d'entraînement: le taux de bonnes prédictions calculé sur la base des données de test.\n",
    "model_decision_tree.score(x_test, y_test)"
   ]
  }
 ],
 "metadata": {
  "interpreter": {
   "hash": "4aaad074e074e846ff4bbc62d1720b87e5013c7813db4b34968934ce6bdf0901"
  },
  "kernelspec": {
   "display_name": "Python 3.8.8 64-bit ('base': conda)",
   "language": "python",
   "name": "python3"
  },
  "language_info": {
   "codemirror_mode": {
    "name": "ipython",
    "version": 3
   },
   "file_extension": ".py",
   "mimetype": "text/x-python",
   "name": "python",
   "nbconvert_exporter": "python",
   "pygments_lexer": "ipython3",
   "version": "3.8.8"
  },
  "orig_nbformat": 4
 },
 "nbformat": 4,
 "nbformat_minor": 2
}
